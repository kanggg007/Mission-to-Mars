{
 "cells": [
  {
   "cell_type": "code",
   "execution_count": 1,
   "metadata": {},
   "outputs": [],
   "source": [
    "from bs4 import BeautifulSoup as soup\n"
   ]
  },
  {
   "cell_type": "code",
   "execution_count": 2,
   "metadata": {},
   "outputs": [
    {
     "ename": "ModuleNotFoundError",
     "evalue": "No module named 'splinter'",
     "output_type": "error",
     "traceback": [
      "\u001b[0;31m---------------------------------------------------------------------------\u001b[0m",
      "\u001b[0;31mModuleNotFoundError\u001b[0m                       Traceback (most recent call last)",
      "\u001b[0;32m<ipython-input-2-b2d686e62f7a>\u001b[0m in \u001b[0;36m<module>\u001b[0;34m\u001b[0m\n\u001b[0;32m----> 1\u001b[0;31m \u001b[0;32mfrom\u001b[0m \u001b[0msplinter\u001b[0m \u001b[0;32mimport\u001b[0m \u001b[0mBrowser\u001b[0m\u001b[0;34m\u001b[0m\u001b[0;34m\u001b[0m\u001b[0m\n\u001b[0m",
      "\u001b[0;31mModuleNotFoundError\u001b[0m: No module named 'splinter'"
     ]
    }
   ],
   "source": [
    "from splinter import Browser"
   ]
  },
  {
   "cell_type": "code",
   "execution_count": 2,
   "metadata": {},
   "outputs": [
    {
     "ename": "NameError",
     "evalue": "name 'Browser' is not defined",
     "output_type": "error",
     "traceback": [
      "\u001b[0;31m---------------------------------------------------------------------------\u001b[0m",
      "\u001b[0;31mNameError\u001b[0m                                 Traceback (most recent call last)",
      "\u001b[0;32m<ipython-input-2-eb68b0a5f45d>\u001b[0m in \u001b[0;36m<module>\u001b[0;34m\u001b[0m\n\u001b[1;32m      1\u001b[0m \u001b[0mexecutable_path\u001b[0m \u001b[0;34m=\u001b[0m \u001b[0;34m{\u001b[0m\u001b[0;34m'executable_path'\u001b[0m\u001b[0;34m:\u001b[0m \u001b[0;34m'/usr/local/bin/chromedriver'\u001b[0m\u001b[0;34m}\u001b[0m\u001b[0;34m\u001b[0m\u001b[0;34m\u001b[0m\u001b[0m\n\u001b[0;32m----> 2\u001b[0;31m \u001b[0mbrowser\u001b[0m \u001b[0;34m=\u001b[0m \u001b[0mBrowser\u001b[0m\u001b[0;34m(\u001b[0m\u001b[0;34m'chrome'\u001b[0m\u001b[0;34m,\u001b[0m \u001b[0;34m**\u001b[0m\u001b[0mexecutable_path\u001b[0m\u001b[0;34m,\u001b[0m \u001b[0mheadless\u001b[0m\u001b[0;34m=\u001b[0m\u001b[0;32mFalse\u001b[0m\u001b[0;34m)\u001b[0m\u001b[0;34m\u001b[0m\u001b[0;34m\u001b[0m\u001b[0m\n\u001b[0m",
      "\u001b[0;31mNameError\u001b[0m: name 'Browser' is not defined"
     ]
    }
   ],
   "source": [
    "executable_path = {'executable_path': '/usr/local/bin/chromedriver'}\n",
    "browser = Browser('chrome', **executable_path, headless=False)"
   ]
  },
  {
   "cell_type": "code",
   "execution_count": 13,
   "metadata": {},
   "outputs": [
    {
     "data": {
      "text/plain": [
       "'Top Ten tags'"
      ]
     },
     "execution_count": 13,
     "metadata": {},
     "output_type": "execute_result"
    }
   ],
   "source": [
    "# Visit the Quotes to Scrape site\n",
    "url = 'http://quotes.toscrape.com/'\n",
    "browser.visit(url)\n",
    "html = browser.html\n",
    "html_soup = soup(html, 'html.parser')\n",
    "# scrape the title\n",
    "title =html_soup.find('h2').text\n",
    "title"
   ]
  },
  {
   "cell_type": "code",
   "execution_count": 19,
   "metadata": {},
   "outputs": [
    {
     "name": "stdout",
     "output_type": "stream",
     "text": [
      "love\n",
      "inspirational\n",
      "life\n",
      "humor\n",
      "books\n",
      "reading\n",
      "friendship\n",
      "friends\n",
      "truth\n",
      "simile\n"
     ]
    }
   ],
   "source": [
    "# scraping all tages:\n",
    "tag_box = html_soup.find('div', class_ = 'tags-box')\n",
    "tags = tag_box.find_all('a', class_= 'tag')\n",
    "\n",
    "for tag in tags:\n",
    "    print(tag.text)"
   ]
  },
  {
   "cell_type": "code",
   "execution_count": 20,
   "metadata": {},
   "outputs": [
    {
     "name": "stdout",
     "output_type": "stream",
     "text": [
      "page 1 =====\n",
      "“The world as we have created it is a process of our thinking. It cannot be changed without changing our thinking.”\n",
      "page 1 =====\n",
      "“It is our choices, Harry, that show what we truly are, far more than our abilities.”\n",
      "page 1 =====\n",
      "“There are only two ways to live your life. One is as though nothing is a miracle. The other is as though everything is a miracle.”\n",
      "page 1 =====\n",
      "“The person, be it gentleman or lady, who has not pleasure in a good novel, must be intolerably stupid.”\n",
      "page 1 =====\n",
      "“Imperfection is beauty, madness is genius and it's better to be absolutely ridiculous than absolutely boring.”\n",
      "page 1 =====\n",
      "“Try not to become a man of success. Rather become a man of value.”\n",
      "page 1 =====\n",
      "“It is better to be hated for what you are than to be loved for what you are not.”\n",
      "page 1 =====\n",
      "“I have not failed. I've just found 10,000 ways that won't work.”\n",
      "page 1 =====\n",
      "“A woman is like a tea bag; you never know how strong it is until it's in hot water.”\n",
      "page 1 =====\n",
      "“A day without sunshine is like, you know, night.”\n",
      "page 2 =====\n",
      "“The world as we have created it is a process of our thinking. It cannot be changed without changing our thinking.”\n",
      "page 2 =====\n",
      "“It is our choices, Harry, that show what we truly are, far more than our abilities.”\n",
      "page 2 =====\n",
      "“There are only two ways to live your life. One is as though nothing is a miracle. The other is as though everything is a miracle.”\n",
      "page 2 =====\n",
      "“The person, be it gentleman or lady, who has not pleasure in a good novel, must be intolerably stupid.”\n",
      "page 2 =====\n",
      "“Imperfection is beauty, madness is genius and it's better to be absolutely ridiculous than absolutely boring.”\n",
      "page 2 =====\n",
      "“Try not to become a man of success. Rather become a man of value.”\n",
      "page 2 =====\n",
      "“It is better to be hated for what you are than to be loved for what you are not.”\n",
      "page 2 =====\n",
      "“I have not failed. I've just found 10,000 ways that won't work.”\n",
      "page 2 =====\n",
      "“A woman is like a tea bag; you never know how strong it is until it's in hot water.”\n",
      "page 2 =====\n",
      "“A day without sunshine is like, you know, night.”\n",
      "page 3 =====\n",
      "“The world as we have created it is a process of our thinking. It cannot be changed without changing our thinking.”\n",
      "page 3 =====\n",
      "“It is our choices, Harry, that show what we truly are, far more than our abilities.”\n",
      "page 3 =====\n",
      "“There are only two ways to live your life. One is as though nothing is a miracle. The other is as though everything is a miracle.”\n",
      "page 3 =====\n",
      "“The person, be it gentleman or lady, who has not pleasure in a good novel, must be intolerably stupid.”\n",
      "page 3 =====\n",
      "“Imperfection is beauty, madness is genius and it's better to be absolutely ridiculous than absolutely boring.”\n",
      "page 3 =====\n",
      "“Try not to become a man of success. Rather become a man of value.”\n",
      "page 3 =====\n",
      "“It is better to be hated for what you are than to be loved for what you are not.”\n",
      "page 3 =====\n",
      "“I have not failed. I've just found 10,000 ways that won't work.”\n",
      "page 3 =====\n",
      "“A woman is like a tea bag; you never know how strong it is until it's in hot water.”\n",
      "page 3 =====\n",
      "“A day without sunshine is like, you know, night.”\n",
      "page 4 =====\n",
      "“The world as we have created it is a process of our thinking. It cannot be changed without changing our thinking.”\n",
      "page 4 =====\n",
      "“It is our choices, Harry, that show what we truly are, far more than our abilities.”\n",
      "page 4 =====\n",
      "“There are only two ways to live your life. One is as though nothing is a miracle. The other is as though everything is a miracle.”\n",
      "page 4 =====\n",
      "“The person, be it gentleman or lady, who has not pleasure in a good novel, must be intolerably stupid.”\n",
      "page 4 =====\n",
      "“Imperfection is beauty, madness is genius and it's better to be absolutely ridiculous than absolutely boring.”\n",
      "page 4 =====\n",
      "“Try not to become a man of success. Rather become a man of value.”\n",
      "page 4 =====\n",
      "“It is better to be hated for what you are than to be loved for what you are not.”\n",
      "page 4 =====\n",
      "“I have not failed. I've just found 10,000 ways that won't work.”\n",
      "page 4 =====\n",
      "“A woman is like a tea bag; you never know how strong it is until it's in hot water.”\n",
      "page 4 =====\n",
      "“A day without sunshine is like, you know, night.”\n",
      "page 5 =====\n",
      "“The world as we have created it is a process of our thinking. It cannot be changed without changing our thinking.”\n",
      "page 5 =====\n",
      "“It is our choices, Harry, that show what we truly are, far more than our abilities.”\n",
      "page 5 =====\n",
      "“There are only two ways to live your life. One is as though nothing is a miracle. The other is as though everything is a miracle.”\n",
      "page 5 =====\n",
      "“The person, be it gentleman or lady, who has not pleasure in a good novel, must be intolerably stupid.”\n",
      "page 5 =====\n",
      "“Imperfection is beauty, madness is genius and it's better to be absolutely ridiculous than absolutely boring.”\n",
      "page 5 =====\n",
      "“Try not to become a man of success. Rather become a man of value.”\n",
      "page 5 =====\n",
      "“It is better to be hated for what you are than to be loved for what you are not.”\n",
      "page 5 =====\n",
      "“I have not failed. I've just found 10,000 ways that won't work.”\n",
      "page 5 =====\n",
      "“A woman is like a tea bag; you never know how strong it is until it's in hot water.”\n",
      "page 5 =====\n",
      "“A day without sunshine is like, you know, night.”\n"
     ]
    }
   ],
   "source": [
    "# scraping a mutiple page \n",
    "for x in range(1, 6):\n",
    "    html = browser.html\n",
    "    quota_soup =soup(html, 'html.parser')\n",
    "    quotas = quota_soup.find_all('span', class_ = 'text')\n",
    "\n",
    "    for quota in quotas:\n",
    "        print('page', x, '=====')\n",
    "        print(quota.text)\n",
    "    browser.links.find_by_partial_text('Next')\n",
    "\n"
   ]
  },
  {
   "cell_type": "code",
   "execution_count": null,
   "metadata": {},
   "outputs": [],
   "source": []
  }
 ],
 "metadata": {
  "kernelspec": {
   "display_name": "PythonData",
   "language": "python",
   "name": "pythondata"
  },
  "language_info": {
   "codemirror_mode": {
    "name": "ipython",
    "version": 3
   },
   "file_extension": ".py",
   "mimetype": "text/x-python",
   "name": "python",
   "nbconvert_exporter": "python",
   "pygments_lexer": "ipython3",
   "version": "3.6.10"
  }
 },
 "nbformat": 4,
 "nbformat_minor": 4
}
